{
 "cells": [
  {
   "cell_type": "code",
   "execution_count": 31,
   "metadata": {
    "collapsed": true
   },
   "outputs": [],
   "source": [
    "import urllib\n",
    "from urllib.request import urlopen\n",
    "from bs4 import BeautifulSoup\n",
    "from selenium import webdriver\n",
    "import time\n",
    "import requests\n",
    "\n",
    "driver = webdriver.PhantomJS('/mnt/d/Academic/Nyu/DS1007/project/phantomjs.exe')"
   ]
  },
  {
   "cell_type": "code",
   "execution_count": 17,
   "metadata": {},
   "outputs": [
    {
     "name": "stdout",
     "output_type": "stream",
     "text": [
      "11028.0\n"
     ]
    }
   ],
   "source": [
    "#Bitfinex data\n",
    "driver.get('https://www.bitfinex.com/stats')\n",
    "time.sleep(0.1)\n",
    "html = driver.page_source\n",
    "\n",
    "soup = BeautifulSoup(html, \"lxml\")\n",
    "lines = soup.findAll('tr')\n",
    "flag = 0\n",
    "for dl in lines:\n",
    "    if flag == 1:\n",
    "        break\n",
    "    cols = dl.find_all('td', {\"class\":  'col-info'})\n",
    "    for col in cols:\n",
    "        if col.get_text() == 'BTC/USD':\n",
    "            btc_pl = dl.find('td', {\"class\":  'col-currency'})\n",
    "            btc_price = float(btc_pl.get_text())\n",
    "            flag = 1\n",
    "            #import pdb; pdb.set_trace()\n",
    "            break\n",
    "print(btc_price)\n"
   ]
  },
  {
   "cell_type": "code",
   "execution_count": 16,
   "metadata": {},
   "outputs": [
    {
     "name": "stdout",
     "output_type": "stream",
     "text": [
      "10999.08\n"
     ]
    }
   ],
   "source": [
    "#Bittrex \n",
    "driver.get('https://bittrex.com/home/markets')\n",
    "time.sleep(3)\n",
    "html = driver.page_source\n",
    "\n",
    "soup = BeautifulSoup(html, \"lxml\")\n",
    "#import pdb; pdb.set_trace()\n",
    "lines = soup.findAll('tr')\n",
    "flag = 0\n",
    "for dl in lines:\n",
    "    if flag == 1:\n",
    "        break\n",
    "    cols = dl.find_all('td', {\"class\":  'name visible-lg'})\n",
    "    for col in cols:\n",
    "        if col.get_text() == 'Bitcoin':\n",
    "            #import pdb; pdb.set_trace()\n",
    "            btc_pl = dl.find('td', {\"data-bind\":  'text: displayLast()'})\n",
    "            btc_price = float(btc_pl.get_text())\n",
    "            flag = 1\n",
    "            break\n",
    "print(btc_price)\n"
   ]
  },
  {
   "cell_type": "code",
   "execution_count": 31,
   "metadata": {},
   "outputs": [
    {
     "name": "stdout",
     "output_type": "stream",
     "text": [
      "10800.0\n"
     ]
    }
   ],
   "source": [
    "#Gdax\n",
    "driver.get('https://www.gdax.com/')\n",
    "time.sleep(1)\n",
    "html = driver.page_source\n",
    "\n",
    "soup = BeautifulSoup(html, \"lxml\")\n",
    "#import pdb; pdb.set_trace()\n",
    "lines = soup.findAll('li', {\"class\":  'ProductsList_product_3cAY6'})\n",
    "for dl in lines:\n",
    "    if dl.a.get_text() == 'BTC/USD':\n",
    "        #import pdb; pdb.set_trace()\n",
    "        btc_pl = dl.span\n",
    "        btc_price = float(btc_pl.get_text().replace(\",\",\"\"))\n",
    "        break\n",
    "print(btc_price)"
   ]
  },
  {
   "cell_type": "code",
   "execution_count": 4,
   "metadata": {},
   "outputs": [
    {
     "name": "stdout",
     "output_type": "stream",
     "text": [
      "10916.99\n"
     ]
    }
   ],
   "source": [
    "#Bitstamp\n",
    "driver.get('https://www.bitstamp.net/')\n",
    "time.sleep(1)\n",
    "html = driver.page_source\n",
    "\n",
    "soup = BeautifulSoup(html, \"lxml\")\n",
    "lines = soup.findAll('h3', {\"id\":  'last-price'})\n",
    "#import pdb; pdb.set_trace()\n",
    "for dl in lines:\n",
    "    if dl.attrs['data-pair'] == 'btcusd':\n",
    "        btc_price = float(dl.strong.get_text())\n",
    "        break\n",
    "print(btc_price)"
   ]
  },
  {
   "cell_type": "code",
   "execution_count": 34,
   "metadata": {},
   "outputs": [
    {
     "name": "stdout",
     "output_type": "stream",
     "text": [
      "11799.017979104367\n"
     ]
    }
   ],
   "source": [
    "#Bithumb\n",
    "url = 'https://api.bithumb.com/public/ticker/btc'\n",
    "r = requests.get(url).text\n",
    "dt = r.split(\",\")\n",
    "btc_price = float(dt[2].split(':')[1][1:-1]) / 1083.48\n",
    "print(btc_price)\n"
   ]
  },
  {
   "cell_type": "code",
   "execution_count": 22,
   "metadata": {
    "collapsed": true
   },
   "outputs": [],
   "source": []
  },
  {
   "cell_type": "code",
   "execution_count": null,
   "metadata": {
    "collapsed": true
   },
   "outputs": [],
   "source": []
  }
 ],
 "metadata": {
  "kernelspec": {
   "display_name": "Python 3",
   "language": "python",
   "name": "python3"
  },
  "language_info": {
   "codemirror_mode": {
    "name": "ipython",
    "version": 3
   },
   "file_extension": ".py",
   "mimetype": "text/x-python",
   "name": "python",
   "nbconvert_exporter": "python",
   "pygments_lexer": "ipython3",
   "version": "3.6.2"
  }
 },
 "nbformat": 4,
 "nbformat_minor": 1
}
