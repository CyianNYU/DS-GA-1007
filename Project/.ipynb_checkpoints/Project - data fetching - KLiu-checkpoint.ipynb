{
 "cells": [
  {
   "cell_type": "code",
   "execution_count": 2,
   "metadata": {
    "collapsed": true
   },
   "outputs": [],
   "source": [
    "import urllib\n",
    "from urllib.request import urlopen\n",
    "from bs4 import BeautifulSoup\n",
    "from selenium import webdriver\n",
    "import time"
   ]
  },
  {
   "cell_type": "code",
   "execution_count": 4,
   "metadata": {},
   "outputs": [
    {
     "ename": "SyntaxError",
     "evalue": "invalid syntax (<ipython-input-4-69344b92e4fc>, line 1)",
     "output_type": "error",
     "traceback": [
      "\u001b[0;36m  File \u001b[0;32m\"<ipython-input-4-69344b92e4fc>\"\u001b[0;36m, line \u001b[0;32m1\u001b[0m\n\u001b[0;31m    install webdriver.PhantomJS\u001b[0m\n\u001b[0m                    ^\u001b[0m\n\u001b[0;31mSyntaxError\u001b[0m\u001b[0;31m:\u001b[0m invalid syntax\n"
     ]
    }
   ],
   "source": [
    "install webdriver.PhantomJS"
   ]
  },
  {
   "cell_type": "code",
   "execution_count": 8,
   "metadata": {},
   "outputs": [
    {
     "name": "stdout",
     "output_type": "stream",
     "text": [
      "9761.8\n"
     ]
    }
   ],
   "source": [
    "#Bitfinex data\n",
    "driver = webdriver.PhantomJS('/mnt/d/Academic/Nyu/DS1007/project/phantomjs.exe')\n",
    "driver.get('https://www.bitfinex.com/stats')\n",
    "time.sleep(0.1)\n",
    "html = driver.page_source\n",
    "\n",
    "soup = BeautifulSoup(html, \"lxml\")\n",
    "lines = soup.findAll('tr')\n",
    "flag = 0\n",
    "for dl in lines:\n",
    "    if flag == 1:\n",
    "        break\n",
    "    cols = dl.find_all('td', {\"class\":  'col-info'})\n",
    "    for col in cols:\n",
    "        if col.get_text() == 'BTC/USD':\n",
    "            btc_pl = dl.find('td', {\"class\":  'col-currency'})\n",
    "            btc_price = float(btc_pl.get_text())\n",
    "            flag = 1\n",
    "            #import pdb; pdb.set_trace()\n",
    "            break\n",
    "print(btc_price)\n"
   ]
  },
  {
   "cell_type": "code",
   "execution_count": null,
   "metadata": {
    "collapsed": true
   },
   "outputs": [],
   "source": [
    "#Bittrex data\n"
   ]
  }
 ],
 "metadata": {
  "kernelspec": {
   "display_name": "Python 3",
   "language": "python",
   "name": "python3"
  },
  "language_info": {
   "codemirror_mode": {
    "name": "ipython",
    "version": 3
   },
   "file_extension": ".py",
   "mimetype": "text/x-python",
   "name": "python",
   "nbconvert_exporter": "python",
   "pygments_lexer": "ipython3",
   "version": "3.6.2"
  }
 },
 "nbformat": 4,
 "nbformat_minor": 1
}
