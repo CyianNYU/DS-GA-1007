{
 "cells": [
  {
   "cell_type": "markdown",
   "metadata": {},
   "source": [
    "## Assigment 4: Playing with Classes and Modules\n",
    "\n",
    "__Question 1.__ (2.0 point) Consider de Class ``student'' as stated below:"
   ]
  },
  {
   "cell_type": "code",
   "execution_count": 19,
   "metadata": {
    "collapsed": true
   },
   "outputs": [],
   "source": [
    "class student():\n",
    "    def __init__(self,s=None):\n",
    "        if (s != None):\n",
    "           self.name = s[0]\n",
    "           self.age = s[1]\n",
    "           self.level = s[2]\n",
    "        else:\n",
    "           self.name = ''\n",
    "           self.age = -1\n",
    "           self.level = -1\n",
    "    def add_name(self, n):\n",
    "        self.name = n\n",
    "    def add_age(self, a):\n",
    "        self.age = a\n",
    "    def add_level(self, l):\n",
    "        self.level = l\n",
    "    def __repr__(self):\n",
    "        str = \"Name: %s\\n\" %self.name\n",
    "        str = str + \"Age: %s\\n\" %self.age\n",
    "        str = str + \"Level: %s\\n\" %self.level\n",
    "        return str"
   ]
  },
  {
   "cell_type": "markdown",
   "metadata": {},
   "source": [
    "Complete the class <font color='blue'>student</font> by implementing methods so as to make the code: "
   ]
  },
  {
   "cell_type": "markdown",
   "metadata": {},
   "source": [
    "```python\n",
    "x = student()\n",
    "x.add_name('Gustavo')\n",
    "x.add_age(48)\n",
    "x.add_level(1)\n",
    "print(x)\n",
    "```"
   ]
  },
  {
   "cell_type": "markdown",
   "metadata": {},
   "source": [
    "output the following result:\n",
    "\n",
    "Name: Gustavo <br>\n",
    "Age: 48 <br>\n",
    "Level: 1"
   ]
  },
  {
   "cell_type": "markdown",
   "metadata": {
    "collapsed": true
   },
   "source": [
    "***\n",
    "***\n",
    "__Question 2.__ (2.0 point) Suppose we want to create a subclass called <font color='blue'>studentCDS</font> from the class <font color='blue'>student</font> .<br>\n",
    "This subclass should contain two new attributes called <font color='blue'>programming_skill</font>, which has as possible values LOW, MEDIAN, or HIGH, and <font color='blue'>math_background</font>, which may assume values YES or NO.<br>\n",
    "\n",
    "Write the subclass <font color='blue'>studentCDS</font> inheriting the attributes from class <font color='blue'>student</font>. Extend the constructor to handle the new attributes <font color='blue'>programming_skill</font> and <font color='blue'>math_background</font>, overwriting the print function to include the content of the new attributes in the output. <br><br>\n",
    "The code \n",
    "```python\n",
    "x_cds = studentCDS(['Gustavo',48,1,'HIGH','YES'])\n",
    "print(x_cds)\n",
    "```\n",
    "should result in:\n",
    "\n",
    "Name: Gustavo <br>\n",
    "Age: 48 <br>\n",
    "Level: 1<br>\n",
    "Programming Skill: HIGH<br>\n",
    "Math Backgroud: YES"
   ]
  },
  {
   "cell_type": "code",
   "execution_count": 28,
   "metadata": {
    "collapsed": true
   },
   "outputs": [],
   "source": [
    "class studentCDS(student):\n",
    "    def __init__(self, s):\n",
    "        student.__init__(self,s)\n",
    "        self.skill = s[3]\n",
    "        self.math = s[4]\n",
    "    def __repr__(self):\n",
    "        str2 = student.__repr__(self) + \"Programming Skill: %s\\n\" %self.skill\n",
    "        str2 = str2 + \"Math Background: %s\" %self.math\n",
    "        return str2"
   ]
  },
  {
   "cell_type": "code",
   "execution_count": 29,
   "metadata": {},
   "outputs": [
    {
     "name": "stdout",
     "output_type": "stream",
     "text": [
      "Name: Gustavo\n",
      "Age: 48\n",
      "Level: 1\n",
      "Programming Skill: HIGH\n",
      "Math Background: YES\n"
     ]
    }
   ],
   "source": [
    "x_cds = studentCDS(['Gustavo',48,1,'HIGH','YES'])\n",
    "print(x_cds)"
   ]
  },
  {
   "cell_type": "markdown",
   "metadata": {},
   "source": [
    "***\n",
    "***\n",
    "__Question 3.__ (2.0 points) The code below plays with the scope of the variables __X__. Explain how the statements <font color='blue'>nonlocal</font> and <font color='blue'>global</font> affects __X__. More precisely, how many distinct variables __X__ does the code have? Why is the value of __X__ different in the print '3' and '6' while it remains the same in '2' and '7'? Why are the values different in the print '1' and '8'?"
   ]
  },
  {
   "cell_type": "code",
   "execution_count": 34,
   "metadata": {},
   "outputs": [
    {
     "name": "stdout",
     "output_type": "stream",
     "text": [
      "1. 0\n",
      "2. 1\n",
      "3. 2\n",
      "4. 3\n",
      "5. 4\n",
      "6. 3\n",
      "7. 1\n",
      "8. 4\n"
     ]
    }
   ],
   "source": [
    "X = 0 \n",
    "\n",
    "def outerf():\n",
    "    X = 1  \n",
    "    def innerf1():\n",
    "        X = 2\n",
    "        def innerf2():\n",
    "            nonlocal X \n",
    "            X = 3\n",
    "            print('4.',X)\n",
    "        \n",
    "        def innerf3():\n",
    "            global X\n",
    "            X = 4\n",
    "            print('5.',X)\n",
    "            \n",
    "        print('3.',X)\n",
    "        innerf2()\n",
    "        innerf3()\n",
    "        print('6.',X)\n",
    "        \n",
    "    print('2.',X)\n",
    "    innerf1()\n",
    "    print('7.',X)\n",
    "    \n",
    "print('1.',X)\n",
    "outerf()\n",
    "print('8.',X)\n",
    "    "
   ]
  },
  {
   "cell_type": "markdown",
   "metadata": {},
   "source": [
    "1. The code has 5 distinct X variables. \n",
    "2. print 3 is printed in innerf1() scope while innerf2() and innterf3() are not called. \n",
    "3. print 6: nonlocal is for the variable in outer scope while global is for the variable in global scope. So when innerf1(), outer scope, is called, X prints out the outer scope value. \n",
    "4. print 2: in the outerf() scope, innerf1(), innerf2() and innterf3() are not called.\n",
    "5. print 7: innerf1() is called. X = 2 belongs only to innerf1() function, it's not a nonlocal variable. So the X value remains the same.\n",
    "6. print 1: None function is called, the X is the global value X = 0\n",
    "7. print 8: ourerf() is called. In the innerf3() the global variable is changed to X = 4. "
   ]
  },
  {
   "cell_type": "markdown",
   "metadata": {},
   "source": [
    "***\n",
    "***\n",
    "__Question 4.__ (2.0 points) Consider the code below:"
   ]
  },
  {
   "cell_type": "code",
   "execution_count": 30,
   "metadata": {
    "collapsed": true
   },
   "outputs": [],
   "source": [
    "class student2():\n",
    "    def __init__(self,s=None):\n",
    "        if (s != None):\n",
    "            try:\n",
    "                self.name = str(s[0])\n",
    "                self.age = int(s[1])\n",
    "                self.level = int(s[2])\n",
    "            except ValueError:\n",
    "                print('Invalid value for student info.')\n",
    "            else:\n",
    "                print('Info properly assigned to the student!!')\n",
    "                print('Name: '+self.name+'\\n'+'Age: '+str(self.age)+'\\n'+'Level: '+str(self.level))\n",
    "        else:\n",
    "            self.name = ''\n",
    "            self.age = -1\n",
    "            self.level = -1\n",
    "            "
   ]
  },
  {
   "cell_type": "code",
   "execution_count": 35,
   "metadata": {},
   "outputs": [
    {
     "name": "stdout",
     "output_type": "stream",
     "text": [
      "Invalid value for student info.\n"
     ]
    }
   ],
   "source": [
    "x = student2(['gustavo',48,'h'])"
   ]
  },
  {
   "cell_type": "code",
   "execution_count": 36,
   "metadata": {},
   "outputs": [
    {
     "ename": "ValueError",
     "evalue": "invalid literal for int() with base 10: 'h'",
     "output_type": "error",
     "traceback": [
      "\u001b[0;31m---------------------------------------------------------------------------\u001b[0m",
      "\u001b[0;31mValueError\u001b[0m                                Traceback (most recent call last)",
      "\u001b[0;32m<ipython-input-36-bae227392673>\u001b[0m in \u001b[0;36m<module>\u001b[0;34m()\u001b[0m\n\u001b[0;32m----> 1\u001b[0;31m \u001b[0mint\u001b[0m\u001b[0;34m(\u001b[0m\u001b[0;34m'h'\u001b[0m\u001b[0;34m)\u001b[0m\u001b[0;34m\u001b[0m\u001b[0m\n\u001b[0m",
      "\u001b[0;31mValueError\u001b[0m: invalid literal for int() with base 10: 'h'"
     ]
    }
   ],
   "source": [
    "int('h')"
   ]
  },
  {
   "cell_type": "markdown",
   "metadata": {},
   "source": [
    "Which of the statements will raise an exception? Pinpoint what is triggering the exception and what is not.  "
   ]
  },
  {
   "cell_type": "markdown",
   "metadata": {},
   "source": [
    "```python\n",
    "a) x = student2(['gustavo','4f:',1])\n",
    "b) x = student2(['gustavo','48',1])\n",
    "c) x = student2([5,48,1])\n",
    "d) x = student2(['gustavo',48,'h'])\n",
    "```"
   ]
  },
  {
   "cell_type": "markdown",
   "metadata": {},
   "source": [
    "* a) will raise an exception since 4f: cannot change to a int type.\n",
    "* b) won't raise an exception.\n",
    "* c) won't raise an exception, the int 5 is switched to string(5)\n",
    "* d) will raise an exception since 'h' cannot change to a int type. If the code writer wants to change it with ASCII code, the ord() function should be used here. "
   ]
  },
  {
   "cell_type": "markdown",
   "metadata": {},
   "source": [
    "***\n",
    "***\n",
    "__Question 5.__ (2.0 points) Consider the file called <font color='red'>moduleij.py</font> (you will need to create this file to make the code below work properly), whose content is:\n",
    "\n",
    "```python\n",
    "# moduleij.py\n",
    "\n",
    "i = 1\n",
    "j = 2\n",
    "\n",
    "def print_ij():\n",
    "    print(i,j)\n",
    "```\n",
    "\n",
    "Run the code_1 and code-2 and explain why the outputs are different. \n",
    "\n",
    "Can you explain what is happening with the variable i?\n",
    "\n",
    "What happen when you run the code_1 and code-2 again? Explain what you are observing and why that is happening."
   ]
  },
  {
   "cell_type": "code",
   "execution_count": 41,
   "metadata": {},
   "outputs": [
    {
     "name": "stdout",
     "output_type": "stream",
     "text": [
      "-2 2\n",
      "-2 2\n"
     ]
    }
   ],
   "source": [
    "# code 1\n",
    "\n",
    "from moduleij import print_ij, i, j\n",
    "\n",
    "print(i,j)\n",
    "\n",
    "i = -2\n",
    "\n",
    "print_ij()"
   ]
  },
  {
   "cell_type": "code",
   "execution_count": 40,
   "metadata": {},
   "outputs": [
    {
     "name": "stdout",
     "output_type": "stream",
     "text": [
      "-2 2\n",
      "-2 2\n"
     ]
    }
   ],
   "source": [
    "# code 2\n",
    "\n",
    "import moduleij as mdij\n",
    "\n",
    "print(i,j)\n",
    "\n",
    "mdij.i = -2\n",
    "\n",
    "mdij.print_ij()"
   ]
  },
  {
   "cell_type": "markdown",
   "metadata": {
    "collapsed": true
   },
   "source": [
    "* in code 1, the first line import all variables separately. So when print_ij() is called, the i in the function is not changed because the i = -2 is changed outside the function.\n",
    "* in code 2, i in print(i,j) changed due to the fact that in code 1 i is changed and the j printed is from the code 1 too. mdij.i changed the i in the function. So when the print_ij() is called, the i changed to -2. \n",
    "* After running it again, the print_ij() is reimplemented. And the i changed to -2 as the code 2 did.  "
   ]
  }
 ],
 "metadata": {
  "kernelspec": {
   "display_name": "Python 3",
   "language": "python",
   "name": "python3"
  },
  "language_info": {
   "codemirror_mode": {
    "name": "ipython",
    "version": 3
   },
   "file_extension": ".py",
   "mimetype": "text/x-python",
   "name": "python",
   "nbconvert_exporter": "python",
   "pygments_lexer": "ipython3",
   "version": "3.6.2"
  }
 },
 "nbformat": 4,
 "nbformat_minor": 2
}
