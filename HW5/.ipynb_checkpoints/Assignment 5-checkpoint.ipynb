{
 "cells": [
  {
   "cell_type": "markdown",
   "metadata": {},
   "source": [
    "# Assignment 5: Reference, Dictionaries, Comprehensions, File I/O, and Unit Tests\n",
    "\n",
    "***\n",
    "\n",
    "__Question 1:__ (1.0 point) \n",
    "- Write a python code that creates a list called _listN_ with the numbers 0,1,2,3,4,5,6,7,8,9. \n",
    "- Make a copy of the content of _listN_ to a new list called _listM_ and append the numbers 10,11,12,13 to the ende of _listM_. \n",
    "- Creat another variable called _listO_ that is a reference to _listM_ and remove the number 4 from _listO_.\n",
    "- Print the content of the three lists and explain what you are observing."
   ]
  },
  {
   "cell_type": "code",
   "execution_count": 19,
   "metadata": {},
   "outputs": [
    {
     "name": "stdout",
     "output_type": "stream",
     "text": [
      "listN:  [0, 1, 2, 3, 4, 5, 6, 7, 8, 9]\n",
      "listM:  [0, 1, 2, 3, 5, 6, 7, 8, 9, 10, 11, 12, 13]\n",
      "listO:  [0, 1, 2, 3, 5, 6, 7, 8, 9, 10, 11, 12, 13]\n"
     ]
    }
   ],
   "source": [
    "# Solution\n",
    "listN = list(range(10))\n",
    "\n",
    "listM = listN[:]\n",
    "listM.extend(range(10,14))\n",
    "\n",
    "listO = listM \n",
    "listO.remove(4)\n",
    "\n",
    "print(\"listN: \", listN)\n",
    "print(\"listM: \", listM)\n",
    "print(\"listO: \", listO)"
   ]
  },
  {
   "cell_type": "markdown",
   "metadata": {
    "collapsed": true
   },
   "source": [
    "Lists are mutuable date type. ListM is independent to listN because the listM is a pass-by-value copy f listN. ListM changed simutaneously when listO changed because listO is a pass-by-reference copy of listM. They both point to the same address. "
   ]
  },
  {
   "cell_type": "markdown",
   "metadata": {},
   "source": [
    "***\n",
    "\n",
    "__Question 2:__ (3.0 points) Each row in the file \"careerXskills.txt\" (available in NYU Classes) contains a pair  _career_ and _skill_. A particular career can be associate to several different skills. For instances, a 'computer_scientist' can have the set of skills 'programming', 'math', 'statistic', 'data_base'. Therefore, a single career can show up multiple times in the file \"careerXskills.txt\", each associate to a particular skill.\n",
    "\n",
    "- Build a dictionary from the file \"careerXskills.txt\", using the career name as the _keys_ and setting the list of skills associate to each career as the _value_ associated to the key. In other words, each _key_ has a list associate to it.\n",
    "- The list of skills associated to a key should not have duplicate entries, that is, a particular skill should not appear multiple times in the list of skills associated to a key.\n",
    "- Your code should print the list of careers and associate skills in the following format:\n",
    "\n",
    "-> computer_scientist: <br>\n",
    "&nbsp; &nbsp; programming, math, statistic, data_base\n",
    "\n",
    "-> engineer: <br>\n",
    "&nbsp; &nbsp; math, design, structural_calculus"
   ]
  },
  {
   "cell_type": "code",
   "execution_count": 61,
   "metadata": {},
   "outputs": [
    {
     "name": "stdout",
     "output_type": "stream",
     "text": [
      "Medical_physicist:\n",
      "physical_fitness,work_under_pressure,resilience,communication,intuitive_reasoning,teamworking\n",
      "\n",
      "Computer_scientist:\n",
      "project_management,accurate_communication,math,innovative_thinking,statistic,programming,technologial_knowledge,resilience\n",
      "\n",
      "Aeronautical_engineer:\n",
      "accurate_communication,project_management,statistic,innovative_thinking,technologial_knowledge,programming,math\n",
      "\n",
      "Accountant:\n",
      "teamworking,innovative_thinking,business_acumen,project_management,technologial_knowledge,IT,manage_deadlines,numeracy\n",
      "\n",
      "Sports_coach:\n",
      "resilience,accurate_communication,statistic,teamworking,programming,communication,intuitive_reasoning,numeracy,project_management,technologial_knowledge\n",
      "\n"
     ]
    }
   ],
   "source": [
    "# solution\n",
    "d = {}\n",
    "with open('careerXskills.txt', 'r') as f:\n",
    "    for line in f:\n",
    "        key, value = line.strip().split()\n",
    "        d.setdefault(key,[])\n",
    "        if value not in d[key]:\n",
    "            d[key].append(value)\n",
    "f.close()\n",
    "\n",
    "for k in d.keys():\n",
    "    print(k +':\\n' + ','.join(d[k])+'\\n')"
   ]
  },
  {
   "cell_type": "markdown",
   "metadata": {},
   "source": [
    "***\n",
    "\n",
    "__Question 3:__ (2.0 points) Write a function called <font color='blue'> format_person_info</font> that receives the two mandatory parameters <font color='blue'>_name_</font> and <font color='blue'>_age_</font> and returns a string containing the first and last name (disregarding middle names) followed by the the phrase \"is <font color='blue'>_age_</font> years old\". For instance, \n",
    "\n",
    "```python\n",
    "print(format_person_info('Luis Gustavo Nonato',48))\n",
    "```\n",
    "should result in:\n",
    "\n",
    "Luis Nonato is 48 years old\n",
    "\n",
    "A third, optional parameter, can also be provided, which specify the job position. For instance,  \n",
    "\n",
    "```python\n",
    "print(format_person_info('Luis Gustavo Nonato',48,'Data Scientist'))\n",
    "```\n",
    "should result in:\n",
    "\n",
    "Luis Nonato, Data Scientis, is 48 years old\n",
    " "
   ]
  },
  {
   "cell_type": "code",
   "execution_count": 68,
   "metadata": {},
   "outputs": [
    {
     "name": "stdout",
     "output_type": "stream",
     "text": [
      "Luis Nonato, Data Scientist, is 48 years old\n",
      "Luis Nonato is 48 years old\n"
     ]
    }
   ],
   "source": [
    "# Solution\n",
    "\n",
    "def format_person_info(name, age, opt = None):\n",
    "    if isinstance(name, str) == False or isinstance(age, int) == False: \n",
    "        print(\"TypeError\")\n",
    "    elif opt:\n",
    "        string = name.split()[0] + ' ' + name.split()[-1] + \", \" + opt + \", is \" + str(age) + \" years old\"\n",
    "    else:\n",
    "        string = name.split()[0] + ' ' + name.split()[-1] + \" is \" + str(age) + \" years old\"\n",
    "    return string\n",
    "print(format_person_info('Luis Gustavo Nonato',48,'Data Scientist'))\n",
    "print(format_person_info('Luis Gustavo Nonato',48))"
   ]
  },
  {
   "cell_type": "markdown",
   "metadata": {},
   "source": [
    "***\n",
    "\n",
    "__Question 4:__ (2.0 points) Write a unit test for the function <font color='blue'> format_person_info</font> you implemented in question 3. Your unit test should assert the function correctness when two or three parameters are provided."
   ]
  },
  {
   "cell_type": "code",
   "execution_count": 5,
   "metadata": {},
   "outputs": [
    {
     "name": "stderr",
     "output_type": "stream",
     "text": [
      "\n",
      "----------------------------------------------------------------------\n",
      "Ran 0 tests in 0.000s\n",
      "\n",
      "OK\n"
     ]
    },
    {
     "data": {
      "text/plain": [
       "<unittest.runner.TextTestResult run=0 errors=0 failures=0>"
      ]
     },
     "execution_count": 5,
     "metadata": {},
     "output_type": "execute_result"
    }
   ],
   "source": [
    "# Solution\n",
    "import unittest\n",
    "\n",
    "class NameAgeJob_Test_Class(unittest.TestCase):\n",
    "    def format_person_info_test1(self):\n",
    "        correctness = \"Luis Nonato, Data Scientis, is 48 years old\"\n",
    "        yours = format_person_info('Luis Gustavo Nonato',48,'Data Scientist')\n",
    "        self.assertEqual(correctness, yours)\n",
    "    def format_person_info_test2(self):\n",
    "        correctness = \"Luis Nonato is 48 years old\"\n",
    "        yours = format_person_info('Luis Gustavo Nonato',48)\n",
    "        self.assertEqual(correctness, yours)\n",
    "\n",
    "\n",
    "# the code below run the unit test\n",
    "t = NameAgeJob_Test_Class()\n",
    "suite = unittest.TestLoader().loadTestsFromModule(t)\n",
    "unittest.TextTestRunner().run(suite)"
   ]
  },
  {
   "cell_type": "markdown",
   "metadata": {},
   "source": [
    "***\n",
    "\n",
    "__Question 5:__ (2.0 points) Write a python code the does exactly the same as \n",
    "\n",
    "```python\n",
    "import random\n",
    "print([x for x in list(map(lambda i: random.randint(-i,i),10*[10])) if x>0])\n",
    "```\n",
    "\n",
    "but without using comprehension."
   ]
  },
  {
   "cell_type": "code",
   "execution_count": 12,
   "metadata": {},
   "outputs": [
    {
     "data": {
      "text/plain": [
       "(<function __main__.<lambda>>, [10, 10, 10, 10, 10, 10, 10, 10, 10, 10])"
      ]
     },
     "execution_count": 12,
     "metadata": {},
     "output_type": "execute_result"
    }
   ],
   "source": [
    "lambda i: random.randint(-i,i),10*[10]"
   ]
  },
  {
   "cell_type": "code",
   "execution_count": 15,
   "metadata": {},
   "outputs": [
    {
     "name": "stdout",
     "output_type": "stream",
     "text": [
      "[8, 5, 4, 5, 10, 2]\n",
      "[8, 5, 4, 5, 10, 2]\n"
     ]
    }
   ],
   "source": [
    "# solution\n",
    "import random\n",
    "random.seed(a=1) # this is only necessary to make sure both codes will produce the same set of random numbers\n",
    "lst = 10*[10]\n",
    "mp = []\n",
    "for i in lst:\n",
    "    mp.append(random.randint(-i,i))\n",
    "printout = []\n",
    "for m in mp:\n",
    "    if m>0:\n",
    "        printout.append(m)\n",
    "print(printout)\n",
    "        \n",
    "    \n",
    "random.seed(a=1) # this is only necessary to make sure both codes will produce the same set of random numbers\n",
    "print([x for x in list(map(lambda i: random.randint(-i,i),10*[10])) if x>0])\n"
   ]
  }
 ],
 "metadata": {
  "kernelspec": {
   "display_name": "Python 3",
   "language": "python",
   "name": "python3"
  },
  "language_info": {
   "codemirror_mode": {
    "name": "ipython",
    "version": 3
   },
   "file_extension": ".py",
   "mimetype": "text/x-python",
   "name": "python",
   "nbconvert_exporter": "python",
   "pygments_lexer": "ipython3",
   "version": "3.6.2"
  }
 },
 "nbformat": 4,
 "nbformat_minor": 2
}
