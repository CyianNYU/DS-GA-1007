{
 "cells": [
  {
   "cell_type": "markdown",
   "metadata": {},
   "source": [
    "# Assignment 6: Numpy II and Matplotlib\n",
    "\n",
    "***\n",
    "\n",
    "__Question 1:__ (2.0 points) \n",
    "\n",
    "1. (0.5 point) Create a two-dimensional numpy array called <font color='blue'>A</font> with six rows and three columns by broadcasting the array [1 2 3 4 5 6].\n",
    "2. (0.5 point) Create arrays <font color='blue'>B</font> and <font color='blue'>C</font> where <font color='blue'>B</font> is copy and <font color='blue'>C</font> is a view of <font color='blue'>A</font>, respectively. Use the method \"id()\" to make sure <font color='blue'>B</font> and <font color='blue'>C</font> do not reference to the same location as <font color='blue'>A</font>. \n",
    "3. (1.0 point) Reshape <font color='blue'>C</font> to have nine rows and two columns and create a new variable <font color='blue'>D</font> by copying the rows 3,6, and 8 from <font color='blue'>D</font>. "
   ]
  },
  {
   "cell_type": "code",
   "execution_count": 9,
   "metadata": {},
   "outputs": [
    {
     "name": "stdout",
     "output_type": "stream",
     "text": [
      "[[ 1.  1.  1.]\n",
      " [ 2.  2.  2.]\n",
      " [ 3.  3.  3.]\n",
      " [ 4.  4.  4.]\n",
      " [ 5.  5.  5.]\n",
      " [ 6.  6.  6.]]\n",
      "The address of A:  4585679888\n",
      "The address of B:  4585679328\n",
      "The address of C:  4585680608\n",
      "[[ 2.  2.]\n",
      " [ 4.  4.]\n",
      " [ 5.  6.]]\n"
     ]
    }
   ],
   "source": [
    "# solution \n",
    "\n",
    "import numpy as np\n",
    "#1\n",
    "A = np.zeros((6,3))\n",
    "arr2 = np.arange(1,7)\n",
    "A[:] = arr2[:,np.newaxis]\n",
    "print(A)\n",
    "\n",
    "#2\n",
    "B = A[[0,1,2,3,4,5]]\n",
    "C = A.view()\n",
    "print(\"The address of A: \", id(A))\n",
    "print(\"The address of B: \", id(B))\n",
    "print(\"The address of C: \", id(C))\n",
    "\n",
    "#3\n",
    "C = C.ravel().reshape(9,2)\n",
    "D = C[[2,5,7]]\n",
    "print(D)"
   ]
  },
  {
   "cell_type": "markdown",
   "metadata": {},
   "source": [
    "***\n",
    "\n",
    "__Question 2:__ (2.0 points) Consider an $n\\times n,\\, n\\geq 2$ array <font color='blue'>A</font>. For instance, with $n=4$:\n",
    "$$\n",
    "A=\\left(\\begin{array}[cccc]\\\\\n",
    "1 & 3 & 2 & 6 \\\\\n",
    "3 & 5 & 1 & {7} \\\\\n",
    "{0} & 4 & {2} & {6} \\\\\n",
    "6 & 1 & 3 & {1} \n",
    "\\end{array}\\right)\n",
    "$$\n",
    "Create a 2$\\times$2 array <font color='blue'>B</font> where the first row corresponds to the minimal and maximal elements in the upper triangluar part of <font color='blue'>A</font> and the second row corresponds to the minimal and maximal elements in the lower triangluar part of <font color='blue'>A</font>. The main diagonal should be considered as belonging to both the upper and lower triangular part of <font color='blue'>A</font>. In the above example the solution would be \n",
    "$$\n",
    "B=\\left(\\begin{array}[cc]\\\\\n",
    "1 & 7  \\\\\n",
    "0 & 6  \n",
    "\\end{array}\\right)\n",
    "$$\n",
    "Your solution (the python code) should work for any $n\\times n,\\, n\\geq 2$ array.<br>\n",
    "__Hint__: Use the numpy methods \"triu_indices\" and \"tril_indices\" combined with \"max\" and \"min\"."
   ]
  },
  {
   "cell_type": "code",
   "execution_count": 40,
   "metadata": {},
   "outputs": [
    {
     "name": "stdout",
     "output_type": "stream",
     "text": [
      "[[ 0.86089685  0.06663353  0.93019865  0.17643803  0.51398151]\n",
      " [ 0.77914834  0.16878319  0.624884    0.54570576  0.47438322]\n",
      " [ 0.48996597  0.62096434  0.94289309  0.16168541  0.73658377]\n",
      " [ 0.4586506   0.78539316  0.67359227  0.73815918  0.927634  ]\n",
      " [ 0.37403166  0.45224444  0.31312819  0.32506827  0.51309445]]\n",
      "B is [[ 0.06663353  0.94289309]\n",
      " [ 0.16878319  0.94289309]]\n"
     ]
    }
   ],
   "source": [
    "# solution\n",
    "\n",
    "# Run you code in the example to make sure it is working. \n",
    "\n",
    "# n = 4\n",
    "# A = np.array([[1,3,2,6],[3,5,1,7],[0,4,2,6],[6,1,3,1]])\n",
    "\n",
    "n = 5\n",
    "A = np.random.rand(n,n)\n",
    "\n",
    "arr = np.array([A[np.triu_indices(n)].min(), A[np.triu_indices(n)].max(), \n",
    "               A[np.tril_indices(n)].min(), A[np.tril_indices(n)].max()])\n",
    "B = arr.reshape(2,2)\n",
    "B\n",
    "print(A)\n",
    "print(\"B is\", B)"
   ]
  },
  {
   "cell_type": "markdown",
   "metadata": {
    "collapsed": true
   },
   "source": [
    "__Question 3:__ (3.0 points) Given a set of points $(x_0,y_0),(x_1,y_1),\\ldots,(x_n,y_n)$, we can fit a line $y=\\alpha_0+\\alpha_1 x$ to the points by solving a linear system of the form:\n",
    "\n",
    "$$\n",
    "A^\\top A\\alpha = A^\\top b\n",
    "$$\n",
    "\n",
    "where $A^\\top$ is the transpose of $A$ and \n",
    "\n",
    "$$\n",
    "A=\\left(\\begin{array}{cc}\n",
    "1 & x_0 \\\\\n",
    "1 & x_1 \\\\\n",
    "\\vdots & \\vdots \\\\\n",
    "1 & x_n \n",
    "\\end{array}\\right),\n",
    "\\qquad\n",
    "\\alpha = \\left(\\begin{array}{c}\n",
    "\\alpha_0 \\\\\n",
    "\\alpha_1 \n",
    "\\end{array}\\right),\n",
    "\\qquad\n",
    "b = \\left(\\begin{array}{c}\n",
    "y_0 \\\\\n",
    "y_1 \\\\\n",
    "\\vdots \\\\\n",
    "y_n\n",
    "\\end{array}\\right)\n",
    "$$\n",
    "\n",
    "Supposing the points $(x_i,y_i)$ are generated by the code:\n",
    "\n",
    "```python\n",
    "x = np.random.uniform(0,1,100)\n",
    "y = 1.0-x+np.random.uniform(-0.3,0.3,100)\n",
    "```\n",
    "\n",
    "1. (1.5 points) Build the matrix (array) $A$\n",
    "2. (1.5 points) Solve the linear system $A^\\top A\\alpha = A^\\top b$ using \"numpy.linalg.solve\" and print the value of $\\alpha_0$ and $\\alpha_1$.\n"
   ]
  },
  {
   "cell_type": "code",
   "execution_count": 59,
   "metadata": {},
   "outputs": [
    {
     "name": "stdout",
     "output_type": "stream",
     "text": [
      "alpha_0: 0.972953734055 \n",
      "alpha_1: -0.940751351382\n"
     ]
    }
   ],
   "source": [
    "# Solution\n",
    "#1\n",
    "x = np.random.uniform(0,1,100)\n",
    "y = 1.0-x+np.random.uniform(-0.3,0.3,100)\n",
    "arr = np.append([1]*100, x)\n",
    "A = arr.reshape(2,100).T\n",
    "\n",
    "#2\n",
    "b = y.T\n",
    "solution = np.linalg.solve(np.dot(A.T,A), np.dot(A.T,b))\n",
    "print('alpha_0: %s \\nalpha_1: %s' %(str(solution[0]), str(solution[1])))"
   ]
  },
  {
   "cell_type": "markdown",
   "metadata": {},
   "source": [
    "__Question 4:__ (1.5 points) Using the result from question 3, plot the points $(x_i,y_i)$ and the fitted line. Your code should produce a figure like this:\n",
    "\n",
    "![title](linefit.png)"
   ]
  },
  {
   "cell_type": "code",
   "execution_count": 104,
   "metadata": {
    "collapsed": true
   },
   "outputs": [],
   "source": [
    "# Solution\n",
    "import matplotlib.pyplot as plt\n",
    "p1 = plt.scatter(x,y, marker = (5,1), label = 'points')\n",
    "par = np.polyfit(x, y, 1, full=True)\n",
    "slope=par[0][0]\n",
    "intercept=par[0][1]\n",
    "xl = [min(x), max(x)]\n",
    "yl = [slope*xx + intercept  for xx in xl]\n",
    "p2 = plt.plot(xl, yl, c = 'orange',lw = 2.5, label = 'fitted line')\n",
    "plt.show()"
   ]
  },
  {
   "cell_type": "markdown",
   "metadata": {},
   "source": [
    "__Question 5:__ (1.5 points) Enrich the plot genereted in question 4 by incorporating a legend and an annotation indicating the fitted line, similar to the following figure:\n",
    "\n",
    "![title](annotation.png)"
   ]
  },
  {
   "cell_type": "code",
   "execution_count": 112,
   "metadata": {},
   "outputs": [
    {
     "data": {
      "image/png": "[encoded data removed]",
      "text/plain": [
       "<matplotlib.figure.Figure at 0x107330710>"
      ]
     },
     "metadata": {},
     "output_type": "display_data"
    }
   ],
   "source": [
    "# Solution\n",
    "p1 = plt.scatter(x,y, marker = (5,1), label = 'points')\n",
    "par = np.polyfit(x, y, 1, full=True)\n",
    "slope=par[0][0]\n",
    "intercept=par[0][1]\n",
    "xl = [min(x), max(x)]\n",
    "yl = [slope*xx + intercept  for xx in xl]\n",
    "p2 = plt.plot(xl, yl, c = 'orange',lw = 2.5, label = 'fitted line')\n",
    "plt.legend(loc = 1)\n",
    "plt.annotate('fitted line', xy=(np.mean(xl), np.mean(yl)), xytext=(0.1,0.0),arrowprops=dict(facecolor='black'))\n",
    "plt.show()"
   ]
  },
  {
   "cell_type": "code",
   "execution_count": null,
   "metadata": {
    "collapsed": true
   },
   "outputs": [],
   "source": []
  }
 ],
 "metadata": {
  "kernelspec": {
   "display_name": "Python 3",
   "language": "python",
   "name": "python3"
  },
  "language_info": {
   "codemirror_mode": {
    "name": "ipython",
    "version": 3
   },
   "file_extension": ".py",
   "mimetype": "text/x-python",
   "name": "python",
   "nbconvert_exporter": "python",
   "pygments_lexer": "ipython3",
   "version": "3.6.2"
  }
 },
 "nbformat": 4,
 "nbformat_minor": 2
}
